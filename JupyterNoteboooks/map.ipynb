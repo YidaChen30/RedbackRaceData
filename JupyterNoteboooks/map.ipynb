{
 "cells": [
  {
   "cell_type": "code",
   "execution_count": 6,
   "id": "14245e04-c169-4683-a2b7-123d931f44e1",
   "metadata": {},
   "outputs": [],
   "source": [
    "import numpy as np\n",
    "import pandas as pd\n",
    "import matplotlib.pyplot as plt"
   ]
  },
  {
   "cell_type": "code",
   "execution_count": 7,
   "id": "84f5777c-1c08-4d47-b30c-eedeefb9b902",
   "metadata": {},
   "outputs": [],
   "source": [
    "df = pd.read_csv('output.csv')"
   ]
  },
  {
   "cell_type": "code",
   "execution_count": 9,
   "id": "e5885723-e6df-4152-8a76-99db9486ea4b",
   "metadata": {},
   "outputs": [],
   "source": [
    "df = df[['WorldPosition_X', 'WorldPosition_Z']]"
   ]
  },
  {
   "cell_type": "code",
   "execution_count": 10,
   "id": "98a043ff-76f3-4a82-9679-15395511ed79",
   "metadata": {},
   "outputs": [
    {
     "data": {
      "text/html": [
       "<div>\n",
       "<style scoped>\n",
       "    .dataframe tbody tr th:only-of-type {\n",
       "        vertical-align: middle;\n",
       "    }\n",
       "\n",
       "    .dataframe tbody tr th {\n",
       "        vertical-align: top;\n",
       "    }\n",
       "\n",
       "    .dataframe thead th {\n",
       "        text-align: right;\n",
       "    }\n",
       "</style>\n",
       "<table border=\"1\" class=\"dataframe\">\n",
       "  <thead>\n",
       "    <tr style=\"text-align: right;\">\n",
       "      <th></th>\n",
       "      <th>WorldPosition_X</th>\n",
       "      <th>WorldPosition_Z</th>\n",
       "    </tr>\n",
       "  </thead>\n",
       "  <tbody>\n",
       "    <tr>\n",
       "      <th>0</th>\n",
       "      <td>0.000000</td>\n",
       "      <td>0.000000</td>\n",
       "    </tr>\n",
       "    <tr>\n",
       "      <th>1</th>\n",
       "      <td>-45.487907</td>\n",
       "      <td>59.597530</td>\n",
       "    </tr>\n",
       "    <tr>\n",
       "      <th>2</th>\n",
       "      <td>-45.491814</td>\n",
       "      <td>59.590443</td>\n",
       "    </tr>\n",
       "    <tr>\n",
       "      <th>3</th>\n",
       "      <td>-45.491714</td>\n",
       "      <td>59.590397</td>\n",
       "    </tr>\n",
       "    <tr>\n",
       "      <th>4</th>\n",
       "      <td>-45.491634</td>\n",
       "      <td>59.590328</td>\n",
       "    </tr>\n",
       "  </tbody>\n",
       "</table>\n",
       "</div>"
      ],
      "text/plain": [
       "   WorldPosition_X  WorldPosition_Z\n",
       "0         0.000000         0.000000\n",
       "1       -45.487907        59.597530\n",
       "2       -45.491814        59.590443\n",
       "3       -45.491714        59.590397\n",
       "4       -45.491634        59.590328"
      ]
     },
     "execution_count": 10,
     "metadata": {},
     "output_type": "execute_result"
    }
   ],
   "source": [
    "df.head()"
   ]
  },
  {
   "cell_type": "code",
   "execution_count": 11,
   "id": "f7fdc4cb-4757-4804-acfd-2b51d018da15",
   "metadata": {},
   "outputs": [
    {
     "name": "stdout",
     "output_type": "stream",
     "text": [
      "       WorldPosition_X  WorldPosition_Z\n",
      "0             0.000000         0.000000\n",
      "1           -45.487907        59.597530\n",
      "2           -45.491814        59.590443\n",
      "3           -45.491714        59.590397\n",
      "4           -45.491634        59.590328\n",
      "...                ...              ...\n",
      "47077       -45.491970        59.586159\n",
      "47078       -45.491970        59.586151\n",
      "47079       -45.491970        59.586143\n",
      "47080       -45.491970        59.586140\n",
      "47081       -45.491970        59.586136\n",
      "\n",
      "[47082 rows x 2 columns]\n"
     ]
    }
   ],
   "source": [
    "print(df)"
   ]
  },
  {
   "cell_type": "code",
   "execution_count": 12,
   "id": "ad1e8b7e-26b0-42ae-af8d-aa6d4bf38d93",
   "metadata": {},
   "outputs": [],
   "source": [
    "BBox = ((df.WorldPosition_X.min(), df.WorldPosition_X.max(),      \n",
    "         df.WorldPosition_Z.min(), df.WorldPosition_Z.max()))"
   ]
  },
  {
   "cell_type": "code",
   "execution_count": 13,
   "id": "2829c9e8-1aa2-4702-bb40-3ae9063278ec",
   "metadata": {},
   "outputs": [
    {
     "name": "stdout",
     "output_type": "stream",
     "text": [
      "(-64.70583344, 74.71399689, -74.41655731, 158.8698883)\n"
     ]
    }
   ],
   "source": [
    "print(BBox)"
   ]
  },
  {
   "cell_type": "code",
   "execution_count": 14,
   "id": "930ef98b-8c52-4fc8-8b48-f92b69ce4911",
   "metadata": {},
   "outputs": [],
   "source": [
    "newArray = np.array(df)"
   ]
  },
  {
   "cell_type": "code",
   "execution_count": 15,
   "id": "65e30a43-078e-49a1-bc33-fd8cd80d1907",
   "metadata": {},
   "outputs": [
    {
     "name": "stdout",
     "output_type": "stream",
     "text": [
      "[[  0.           0.        ]\n",
      " [-45.48790741  59.59753036]\n",
      " [-45.49181366  59.59044266]\n",
      " ...\n",
      " [-45.49197006  59.58614349]\n",
      " [-45.49197006  59.58613968]\n",
      " [-45.49197006  59.58613586]]\n"
     ]
    }
   ],
   "source": [
    "print(newArray)"
   ]
  },
  {
   "cell_type": "code",
   "execution_count": 16,
   "id": "5e6c3bff-5e93-48f4-8c37-2df87d8b00f9",
   "metadata": {},
   "outputs": [
    {
     "data": {
      "image/png": "[encoded data removed]",
      "text/plain": [
       "<Figure size 432x288 with 1 Axes>"
      ]
     },
     "metadata": {
      "needs_background": "light"
     },
     "output_type": "display_data"
    }
   ],
   "source": [
    "x, y = newArray.T\n",
    "plt.scatter(x,y)\n",
    "plt.show()"
   ]
  },
  {
   "cell_type": "code",
   "execution_count": null,
   "id": "8a1cd76e-761f-4c66-9aa7-9f7aafd969c1",
   "metadata": {},
   "outputs": [],
   "source": []
  }
 ],
 "metadata": {
  "kernelspec": {
   "display_name": "Python 3 (ipykernel)",
   "language": "python",
   "name": "python3"
  },
  "language_info": {
   "codemirror_mode": {
    "name": "ipython",
    "version": 3
   },
   "file_extension": ".py",
   "mimetype": "text/x-python",
   "name": "python",
   "nbconvert_exporter": "python",
   "pygments_lexer": "ipython3",
   "version": "3.9.7"
  }
 },
 "nbformat": 4,
 "nbformat_minor": 5
}

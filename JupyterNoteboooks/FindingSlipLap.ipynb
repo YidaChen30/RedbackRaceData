{
 "cells": [
  {
   "cell_type": "code",
   "execution_count": 62,
   "id": "0819e3af-624e-498e-be8a-6f43fe46d852",
   "metadata": {},
   "outputs": [],
   "source": [
    "import numpy as np\n",
    "import pandas as pd\n",
    "import matplotlib.pyplot as plt"
   ]
  },
  {
   "cell_type": "code",
   "execution_count": 68,
   "id": "4c67d738-7783-4f3b-aaec-885a7e2e2f80",
   "metadata": {},
   "outputs": [],
   "source": [
    "df = pd.read_csv('RedBackProj/RedbackRaceData/ValidLapsOutput/VLoutput1_05.csv')"
   ]
  },
  {
   "cell_type": "code",
   "execution_count": 69,
   "id": "29ad3fa4-508a-492d-b151-37babc827f84",
   "metadata": {},
   "outputs": [
    {
     "name": "stdout",
     "output_type": "stream",
     "text": [
      "avgLap is 41426.46153846154\n",
      "lapCount = 13\n"
     ]
    }
   ],
   "source": [
    "totalLaps = 0\n",
    "prevLap = 999\n",
    "avgLap = 0\n",
    "for index, row in df.iterrows():\n",
    "    if row['acsys.CS.LapCount'] - 1 == prevLap:\n",
    "        avgLap += row['acsys.CS.LastLap']\n",
    "        totalLaps += 1\n",
    "    prevLap = row['acsys.CS.LapCount']\n",
    "\n",
    "avgLap = avgLap/totalLaps   \n",
    "print(f\"avgLap is {avgLap}\")\n",
    "print(f\"lapCount = {totalLaps}\")"
   ]
  },
  {
   "cell_type": "code",
   "execution_count": 70,
   "id": "2fb2a229-0e79-4dbc-9e65-2ba8b127abc9",
   "metadata": {},
   "outputs": [
    {
     "name": "stdout",
     "output_type": "stream",
     "text": [
      "2.4565618965983047\n",
      "-2.8769081620565116\n",
      "-0.42034626545820686\n"
     ]
    }
   ],
   "source": [
    "avgSlipL = 0\n",
    "avgSlipR = 0\n",
    "for index, row in df.iterrows():\n",
    "    avgSlipL += (row['SlipAngle_FL'] - row['CamberDeg_FL']) - row['SlipAngle_RL']\n",
    "    avgSlipR += (row['SlipAngle_FR'] + row['CamberDeg_FR']) - row['SlipAngle_RR']\n",
    "avgSlipL = avgSlipL / len(df.index)\n",
    "avgSlipR = avgSlipR / len(df.index)\n",
    "total = avgSlipL + avgSlipR\n",
    "print(avgSlipL)\n",
    "print(avgSlipR)\n",
    "print(total)"
   ]
  },
  {
   "cell_type": "code",
   "execution_count": 71,
   "id": "02872d6e-4425-4749-9327-d804a6b837dd",
   "metadata": {},
   "outputs": [
    {
     "name": "stdout",
     "output_type": "stream",
     "text": [
      "-1.7622992423611634\n",
      "-0.47944992360635674\n"
     ]
    }
   ],
   "source": [
    "# Adding the front and rear\n",
    "avgSlipL = 0\n",
    "avgSlipR = 0\n",
    "for index, row in df.iterrows():\n",
    "    avgSlipL += (row['SlipAngle_FL'] - row['CamberDeg_FL']) + row['SlipAngle_RL']\n",
    "    avgSlipR += (row['SlipAngle_FR'] + row['CamberDeg_FR']) + row['SlipAngle_RR']\n",
    "avgSlipL = avgSlipL / len(df.index)\n",
    "avgSlipR = avgSlipR / len(df.index)\n",
    "print(avgSlipL)\n",
    "print(avgSlipR)"
   ]
  },
  {
   "cell_type": "code",
   "execution_count": 72,
   "id": "08916ff8-1705-4330-860d-a829a4016eb4",
   "metadata": {},
   "outputs": [
    {
     "name": "stdout",
     "output_type": "stream",
     "text": [
      "-0.4203462654582065\n"
     ]
    }
   ],
   "source": [
    "# Combining right and left\n",
    "avgSlip = 0\n",
    "for index, row in df.iterrows():\n",
    "    avgSlip += ((row['SlipAngle_FL'] - row['CamberDeg_FL']) + (row['SlipAngle_FR'] + row['CamberDeg_FR'])) - (row['SlipAngle_RL'] + row['SlipAngle_RR'])\n",
    "avgSlip = avgSlip / len(df.index)\n",
    "print(avgSlip)"
   ]
  },
  {
   "cell_type": "code",
   "execution_count": null,
   "id": "f0a10b72-f4ab-4964-84f5-6170f4059f90",
   "metadata": {},
   "outputs": [],
   "source": []
  },
  {
   "cell_type": "code",
   "execution_count": null,
   "id": "143127eb-7ea9-4b2d-97bf-a35c8f628c4b",
   "metadata": {},
   "outputs": [],
   "source": []
  }
 ],
 "metadata": {
  "kernelspec": {
   "display_name": "Python 3 (ipykernel)",
   "language": "python",
   "name": "python3"
  },
  "language_info": {
   "codemirror_mode": {
    "name": "ipython",
    "version": 3
   },
   "file_extension": ".py",
   "mimetype": "text/x-python",
   "name": "python",
   "nbconvert_exporter": "python",
   "pygments_lexer": "ipython3",
   "version": "3.9.7"
  }
 },
 "nbformat": 4,
 "nbformat_minor": 5
}

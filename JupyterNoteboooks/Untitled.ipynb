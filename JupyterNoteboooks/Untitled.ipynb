{
 "cells": [
  {
   "cell_type": "code",
   "execution_count": 1,
   "id": "03cff3b9-b63b-4ec2-815e-e366cbb0a5e9",
   "metadata": {},
   "outputs": [],
   "source": [
    "import pandas as pd\n",
    "df = pd.read_csv('output.csv')"
   ]
  },
  {
   "cell_type": "code",
   "execution_count": 2,
   "id": "bd40b881-f2c0-466c-98c4-1c2c2b66f4e2",
   "metadata": {},
   "outputs": [],
   "source": [
    "# df = df.drop(columns=['acsys.CS.SpeedKMH'])"
   ]
  },
  {
   "cell_type": "code",
   "execution_count": 3,
   "id": "9fcdc0b4-cddf-470f-af4e-b98e142d0261",
   "metadata": {},
   "outputs": [],
   "source": [
    "df = df[['acsys.CS.SpeedKMH', 'acsys.CS.Gas', 'acsys.CS.Brake', 'acsys.CS.BestLap', 'acsys.CS.LapCount', 'acsys.CS.LastLap', 'acsys.CS.Steer', 'WorldPosition_X', 'WorldPosition_Y', 'WorldPosition_Z', 'CamberDeg_FR', 'CamberDeg_FL', 'CamberDeg_RL', 'CamberDeg_RR', 'SlipAngle_FL', 'SlipAngle_FR', 'SlipAngle_RL', 'SlipAngle_RR', 'CurrentTyresCoreTemp_FL', 'CurrentTyresCoreTemp_FR', 'CurrentTyresCoreTemp_RL', 'CurrentTyresCoreTemp_RR', 'TyreContactNormal_FL_X', 'TyreContactNormal_FL_Y', 'TyreContactNormal_FL_Z', 'TyreContactNormal_FR_X', 'TyreContactNormal_FR_Y', 'TyreContactNormal_FR_Z', 'TyreContactNormal_RL_X', 'TyreContactNormal_RL_Y', 'TyreContactNormal_RL_Z', 'TyreContactNormal_RR_X', 'TyreContactNormal_RR_Y', 'TyreContactNormal_RR_Z', 'acsys.CS.ToeInDeg']]"
   ]
  },
  {
   "cell_type": "code",
   "execution_count": 4,
   "id": "76928f11-d83b-48c2-b08c-0e3138561234",
   "metadata": {},
   "outputs": [],
   "source": [
    "# df = df.drop(labels=df[df.index % 5 != 0].index, axis=0) drops every 5th row"
   ]
  },
  {
   "cell_type": "code",
   "execution_count": 6,
   "id": "acdefc6c-c2fb-456b-8de0-923d605773b8",
   "metadata": {},
   "outputs": [],
   "source": [
    "df.to_csv('modified_data_new.csv')"
   ]
  },
  {
   "cell_type": "code",
   "execution_count": null,
   "id": "73056e0d-ad5b-4f06-95c2-065abecb6a93",
   "metadata": {},
   "outputs": [],
   "source": []
  },
  {
   "cell_type": "code",
   "execution_count": null,
   "id": "3f9be80c-16cf-43de-ad81-18056cd00907",
   "metadata": {},
   "outputs": [],
   "source": []
  }
 ],
 "metadata": {
  "kernelspec": {
   "display_name": "Python 3 (ipykernel)",
   "language": "python",
   "name": "python3"
  },
  "language_info": {
   "codemirror_mode": {
    "name": "ipython",
    "version": 3
   },
   "file_extension": ".py",
   "mimetype": "text/x-python",
   "name": "python",
   "nbconvert_exporter": "python",
   "pygments_lexer": "ipython3",
   "version": "3.9.7"
  }
 },
 "nbformat": 4,
 "nbformat_minor": 5
}

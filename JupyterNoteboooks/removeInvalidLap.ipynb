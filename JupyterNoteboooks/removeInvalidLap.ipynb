{
 "cells": [
  {
   "cell_type": "code",
   "execution_count": 63,
   "id": "d93f3596-ea7e-43ba-89da-690b4f982395",
   "metadata": {},
   "outputs": [],
   "source": [
    "import pandas as pd\n",
    "df = pd.read_csv('output.csv')"
   ]
  },
  {
   "cell_type": "code",
   "execution_count": 64,
   "id": "77bcc88b-2c07-4c29-8a49-0898a553fed8",
   "metadata": {},
   "outputs": [],
   "source": [
    "# print(df.head(1))"
   ]
  },
  {
   "cell_type": "code",
   "execution_count": 65,
   "id": "91110bf5-9b86-4652-a95f-a502d22d17e4",
   "metadata": {},
   "outputs": [],
   "source": [
    "# for index, row in df.iterrows():\n",
    "#     if row['acsys.CS.LastLap'] > 45000:\n",
    "#         currentLap = (row['acsys.CS.LapCount'])\n",
    "#         # df = df[df['acsys.CS.LapCount'] == (currentLap - 1)]\n",
    "#         # df.drop(df.index[df['acsys.CS.LapCount'] == currentLap - 1], inplace=True)\n",
    "#         # df.loc[df['acsys.CS.LapCount'] == currentLap - 1]\n",
    "#         df = df[['acsys.CS.LapCount'] != (currentLap - 1)] \n",
    "# print(df.head(1))\n",
    "    "
   ]
  },
  {
   "cell_type": "code",
   "execution_count": 66,
   "id": "ccfabc39-c647-4a73-8cbc-a4c3ac2a6b46",
   "metadata": {},
   "outputs": [
    {
     "name": "stdout",
     "output_type": "stream",
     "text": [
      "      acsys.CS.SpeedKMH  acsys.CS.Gas  acsys.CS.Brake  acsys.CS.Clutch  \\\n",
      "2201          84.696251           1.0    1.060000e-33              1.0   \n",
      "\n",
      "      acsys.CS.Gear  acsys.CS.BestLap  acsys.CS.CGHeight  \\\n",
      "2201              2             60000           0.305539   \n",
      "\n",
      "      acsys.CS.DriveTrainSpeed  acsys.CS.RPM  acsys.CS.LapCount  ...  \\\n",
      "2201                102.139641   3525.935547                  1  ...   \n",
      "\n",
      "      TyreContactPoint_RL_Z  TyreContactPoint_RR_X  TyreContactPoint_RR_Y  \\\n",
      "2201              53.365574             -35.974239              -1.111649   \n",
      "\n",
      "      TyreContactPoint_RR_Z  acsys.CS.ToeInDeg  acsys.CS.Caster  \\\n",
      "2201              53.136372           3.791588        -4.998061   \n",
      "\n",
      "      acsys.CS.ERSDelivery  acsys.CS.ERSHeatCharging  \\\n",
      "2201                     0                         1   \n",
      "\n",
      "      ERSCurrentKJRunningTotaledKMH  acsys.CS.ERSRecovery  \n",
      "2201                    560795.5741                     5  \n",
      "\n",
      "[1 rows x 132 columns]\n"
     ]
    }
   ],
   "source": [
    "for index, row in df.iterrows():\n",
    "    if row['acsys.CS.LastLap'] > 45000:\n",
    "        currentLap = (row['acsys.CS.LapCount'])\n",
    "        indexNames = df[df['acsys.CS.LapCount'] == (currentLap - 1)].index\n",
    "        df.drop(indexNames, inplace = True)\n",
    "print(df.head(1))"
   ]
  },
  {
   "cell_type": "code",
   "execution_count": 67,
   "id": "1bbc232d-cdc7-4509-b4b8-cf1fd554ac25",
   "metadata": {},
   "outputs": [],
   "source": [
    "df.to_csv('InvalidLapRemovedv2.csv')"
   ]
  },
  {
   "cell_type": "code",
   "execution_count": null,
   "id": "9bdc1335-5706-4cf3-988b-5727269880c9",
   "metadata": {},
   "outputs": [],
   "source": []
  },
  {
   "cell_type": "code",
   "execution_count": null,
   "id": "ae79c2d5-fa7f-4bb7-9a32-8c9cedf8c4a2",
   "metadata": {},
   "outputs": [],
   "source": []
  }
 ],
 "metadata": {
  "kernelspec": {
   "display_name": "Python 3 (ipykernel)",
   "language": "python",
   "name": "python3"
  },
  "language_info": {
   "codemirror_mode": {
    "name": "ipython",
    "version": 3
   },
   "file_extension": ".py",
   "mimetype": "text/x-python",
   "name": "python",
   "nbconvert_exporter": "python",
   "pygments_lexer": "ipython3",
   "version": "3.9.7"
  }
 },
 "nbformat": 4,
 "nbformat_minor": 5
}

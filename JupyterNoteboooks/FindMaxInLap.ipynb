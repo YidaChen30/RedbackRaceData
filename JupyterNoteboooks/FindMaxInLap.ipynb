{
 "cells": [
  {
   "cell_type": "code",
   "execution_count": null,
   "id": "eabbd47f-a51f-40a8-a583-68b4e6b71391",
   "metadata": {},
   "outputs": [],
   "source": [
    "import pandas as pd\n",
    "import os"
   ]
  },
  {
   "cell_type": "code",
   "execution_count": 17,
   "id": "3d0c4dbb-6ceb-4377-a0b3-264cd61005a7",
   "metadata": {},
   "outputs": [],
   "source": [
    "df = pd.read_csv('../RedbackRaceData/ValidLapsOutput/VLoutput0_41.csv')"
   ]
  },
  {
   "cell_type": "code",
   "execution_count": 18,
   "id": "cc1835d7-cdaa-4013-aa35-c93b0460eb13",
   "metadata": {},
   "outputs": [
    {
     "name": "stdout",
     "output_type": "stream",
     "text": [
      "24749\n"
     ]
    }
   ],
   "source": [
    "avgSlip = 0\n",
    "for index, row in df.iterrows():\n",
    "    if abs(row['acsys.CS.ToeInDeg']) > abs(row['SlipAngle_FL']):\n",
    "        avgSlip += 1\n",
    "print(avgSlip)"
   ]
  },
  {
   "cell_type": "code",
   "execution_count": 19,
   "id": "ea6c3e72-df7e-419b-ae38-2ad7c51eb3f1",
   "metadata": {},
   "outputs": [
    {
     "name": "stdout",
     "output_type": "stream",
     "text": [
      "-32.86437225341797\n"
     ]
    }
   ],
   "source": [
    "column = df['SlipAngle_FL']\n",
    "max_value = column.min()\n",
    "print(max_value)"
   ]
  },
  {
   "cell_type": "code",
   "execution_count": null,
   "id": "5b01e838-e3cf-45e5-84c9-0a1d6c314582",
   "metadata": {},
   "outputs": [],
   "source": []
  }
 ],
 "metadata": {
  "kernelspec": {
   "display_name": "Python 3 (ipykernel)",
   "language": "python",
   "name": "python3"
  },
  "language_info": {
   "codemirror_mode": {
    "name": "ipython",
    "version": 3
   },
   "file_extension": ".py",
   "mimetype": "text/x-python",
   "name": "python",
   "nbconvert_exporter": "python",
   "pygments_lexer": "ipython3",
   "version": "3.9.7"
  }
 },
 "nbformat": 4,
 "nbformat_minor": 5
}

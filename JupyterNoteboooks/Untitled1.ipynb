{
 "cells": [
  {
   "cell_type": "code",
   "execution_count": 1,
   "id": "aa7c6aed-668f-4cc9-9380-123454beff4d",
   "metadata": {},
   "outputs": [],
   "source": [
    "import pandas as pd\n",
    "import os"
   ]
  },
  {
   "cell_type": "code",
   "execution_count": 2,
   "id": "0ddb41b1-7f99-455b-ac6c-71134711c8c7",
   "metadata": {},
   "outputs": [],
   "source": [
    "df = pd.read_csv('../RedbackRaceData/ValidLapsOutput/VLoutput1_11.csv')"
   ]
  },
  {
   "cell_type": "code",
   "execution_count": null,
   "id": "7f8cf6e9-459b-4eef-b99f-46a376cdfb6b",
   "metadata": {},
   "outputs": [],
   "source": [
    "for index, row in df.iterrows():\n",
    "    if abs(row['acsys.CS.Steer']) < 0.65:\n",
    "        setup_toe = row['acsys.CS.ToeInDeg']\n",
    "        break\n",
    "\n",
    "avgSlip = 0\n",
    "for index, row in df.iterrows():\n",
    "    if (row['SlipAngle_FL'] + setup_toe) > row['SlipAngle_RL']:\n",
    "        avgSlip += 1\n",
    "print(avgSlip)\n",
    "print(setup_toe)"
   ]
  }
 ],
 "metadata": {
  "kernelspec": {
   "display_name": "Python 3 (ipykernel)",
   "language": "python",
   "name": "python3"
  },
  "language_info": {
   "codemirror_mode": {
    "name": "ipython",
    "version": 3
   },
   "file_extension": ".py",
   "mimetype": "text/x-python",
   "name": "python",
   "nbconvert_exporter": "python",
   "pygments_lexer": "ipython3",
   "version": "3.9.7"
  }
 },
 "nbformat": 4,
 "nbformat_minor": 5
}
